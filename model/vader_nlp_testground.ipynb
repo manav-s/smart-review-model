{
 "cells": [
  {
   "cell_type": "markdown",
   "id": "d59aa4e6",
   "metadata": {},
   "source": [
    "# Imports\n",
    "\n",
    "note: use pip install vaderSentiment"
   ]
  },
  {
   "cell_type": "code",
   "execution_count": 1,
   "id": "953c70c9",
   "metadata": {},
   "outputs": [
    {
     "name": "stderr",
     "output_type": "stream",
     "text": [
      "[nltk_data] Downloading package vader_lexicon to\n",
      "[nltk_data]     /Users/MilesChild/nltk_data...\n",
      "[nltk_data]   Package vader_lexicon is already up-to-date!\n",
      "[nltk_data] Downloading package vader_lexicon to\n",
      "[nltk_data]     /Users/MilesChild/nltk_data...\n",
      "[nltk_data]   Package vader_lexicon is already up-to-date!\n"
     ]
    }
   ],
   "source": [
    "import pandas as pd\n",
    "import nltk\n",
    "nltk.download('vader_lexicon')\n",
    "from nltk.sentiment.vader import SentimentIntensityAnalyzer\n",
    "sid = SentimentIntensityAnalyzer()\n",
    "from vader_model import *"
   ]
  },
  {
   "cell_type": "code",
   "execution_count": 2,
   "id": "5ee572b7",
   "metadata": {},
   "outputs": [
    {
     "name": "stdout",
     "output_type": "stream",
     "text": [
      "{'neg': 0.0, 'neu': 0.308, 'pos': 0.692, 'compound': 0.6696}\n",
      "{'neg': 0.666, 'neu': 0.334, 'pos': 0.0, 'compound': -0.6114}\n"
     ]
    }
   ],
   "source": [
    "# Example of VADER sentiment analysis tool:\n",
    "\n",
    "# Positive string:\n",
    "print(sid.polarity_scores('I love this movie!'))\n",
    "\n",
    "# Negative string:\n",
    "print(sid.polarity_scores('I hate this movie!'))"
   ]
  },
  {
   "cell_type": "markdown",
   "id": "5835073c",
   "metadata": {},
   "source": [
    "# Creating a sentiment score dataframe using our text reviews data:"
   ]
  },
  {
   "cell_type": "code",
   "execution_count": 3,
   "id": "769d5322",
   "metadata": {},
   "outputs": [],
   "source": [
    "# initialize the reviews dataframe\n",
    "text_df = pd.read_csv('/Users/MilesChild/Desktop/codeProjects/DS3000/smart-review-model/data_initialEDA.csv')"
   ]
  },
  {
   "cell_type": "code",
   "execution_count": 4,
   "id": "479fad13",
   "metadata": {},
   "outputs": [
    {
     "data": {
      "text/html": [
       "<div>\n",
       "<style scoped>\n",
       "    .dataframe tbody tr th:only-of-type {\n",
       "        vertical-align: middle;\n",
       "    }\n",
       "\n",
       "    .dataframe tbody tr th {\n",
       "        vertical-align: top;\n",
       "    }\n",
       "\n",
       "    .dataframe thead th {\n",
       "        text-align: right;\n",
       "    }\n",
       "</style>\n",
       "<table border=\"1\" class=\"dataframe\">\n",
       "  <thead>\n",
       "    <tr style=\"text-align: right;\">\n",
       "      <th></th>\n",
       "      <th>Stars</th>\n",
       "      <th>Review</th>\n",
       "      <th>scores</th>\n",
       "      <th>neg</th>\n",
       "      <th>neu</th>\n",
       "      <th>pos</th>\n",
       "      <th>compound</th>\n",
       "    </tr>\n",
       "  </thead>\n",
       "  <tbody>\n",
       "    <tr>\n",
       "      <th>0</th>\n",
       "      <td>1</td>\n",
       "      <td>I got 'new' tires from them and within two wee...</td>\n",
       "      <td>{'neg': 0.067, 'neu': 0.933, 'pos': 0.0, 'comp...</td>\n",
       "      <td>0.067</td>\n",
       "      <td>0.933</td>\n",
       "      <td>0.000</td>\n",
       "      <td>-0.8951</td>\n",
       "    </tr>\n",
       "    <tr>\n",
       "      <th>1</th>\n",
       "      <td>1</td>\n",
       "      <td>Don't waste your time.  We had two different p...</td>\n",
       "      <td>{'neg': 0.0, 'neu': 0.939, 'pos': 0.061, 'comp...</td>\n",
       "      <td>0.000</td>\n",
       "      <td>0.939</td>\n",
       "      <td>0.061</td>\n",
       "      <td>0.3252</td>\n",
       "    </tr>\n",
       "    <tr>\n",
       "      <th>2</th>\n",
       "      <td>1</td>\n",
       "      <td>All I can say is the worst! We were the only 2...</td>\n",
       "      <td>{'neg': 0.092, 'neu': 0.853, 'pos': 0.055, 'co...</td>\n",
       "      <td>0.092</td>\n",
       "      <td>0.853</td>\n",
       "      <td>0.055</td>\n",
       "      <td>-0.7697</td>\n",
       "    </tr>\n",
       "    <tr>\n",
       "      <th>3</th>\n",
       "      <td>1</td>\n",
       "      <td>I have been to this restaurant twice and was d...</td>\n",
       "      <td>{'neg': 0.137, 'neu': 0.833, 'pos': 0.031, 'co...</td>\n",
       "      <td>0.137</td>\n",
       "      <td>0.833</td>\n",
       "      <td>0.031</td>\n",
       "      <td>-0.9645</td>\n",
       "    </tr>\n",
       "    <tr>\n",
       "      <th>4</th>\n",
       "      <td>1</td>\n",
       "      <td>Food was NOT GOOD at all! My husband &amp; I ate h...</td>\n",
       "      <td>{'neg': 0.13, 'neu': 0.825, 'pos': 0.044, 'com...</td>\n",
       "      <td>0.130</td>\n",
       "      <td>0.825</td>\n",
       "      <td>0.044</td>\n",
       "      <td>-0.9392</td>\n",
       "    </tr>\n",
       "  </tbody>\n",
       "</table>\n",
       "</div>"
      ],
      "text/plain": [
       "   Stars                                             Review  \\\n",
       "0      1  I got 'new' tires from them and within two wee...   \n",
       "1      1  Don't waste your time.  We had two different p...   \n",
       "2      1  All I can say is the worst! We were the only 2...   \n",
       "3      1  I have been to this restaurant twice and was d...   \n",
       "4      1  Food was NOT GOOD at all! My husband & I ate h...   \n",
       "\n",
       "                                              scores    neg    neu    pos  \\\n",
       "0  {'neg': 0.067, 'neu': 0.933, 'pos': 0.0, 'comp...  0.067  0.933  0.000   \n",
       "1  {'neg': 0.0, 'neu': 0.939, 'pos': 0.061, 'comp...  0.000  0.939  0.061   \n",
       "2  {'neg': 0.092, 'neu': 0.853, 'pos': 0.055, 'co...  0.092  0.853  0.055   \n",
       "3  {'neg': 0.137, 'neu': 0.833, 'pos': 0.031, 'co...  0.137  0.833  0.031   \n",
       "4  {'neg': 0.13, 'neu': 0.825, 'pos': 0.044, 'com...  0.130  0.825  0.044   \n",
       "\n",
       "   compound  \n",
       "0   -0.8951  \n",
       "1    0.3252  \n",
       "2   -0.7697  \n",
       "3   -0.9645  \n",
       "4   -0.9392  "
      ]
     },
     "execution_count": 4,
     "metadata": {},
     "output_type": "execute_result"
    }
   ],
   "source": [
    "# Step 2: Use VADER model to score each of the reviews and store the output in a new column.\n",
    "# note: this takes a while to run\n",
    "vm = VaderModel()\n",
    "\n",
    "sentiment_df = vm.add_scores_to_dataframe(text_df, 'Review')\n",
    "sentiment_df.head()"
   ]
  },
  {
   "cell_type": "code",
   "execution_count": null,
   "id": "26c4674a",
   "metadata": {},
   "outputs": [],
   "source": []
  }
 ],
 "metadata": {
  "kernelspec": {
   "display_name": "Python 3.9.12",
   "language": "python",
   "name": "python3"
  },
  "language_info": {
   "codemirror_mode": {
    "name": "ipython",
    "version": 3
   },
   "file_extension": ".py",
   "mimetype": "text/x-python",
   "name": "python",
   "nbconvert_exporter": "python",
   "pygments_lexer": "ipython3",
   "version": "3.9.12"
  },
  "vscode": {
   "interpreter": {
    "hash": "6878569262a6e222d2bf9767f8c76a5e9f33c66f4b81d8aa952494e1f3a0e918"
   }
  }
 },
 "nbformat": 4,
 "nbformat_minor": 5
}
