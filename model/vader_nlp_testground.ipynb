{
 "cells": [
  {
   "cell_type": "markdown",
   "id": "d59aa4e6",
   "metadata": {},
   "source": [
    "# Imports\n",
    "\n",
    "note: use pip install vaderSentiment"
   ]
  },
  {
   "cell_type": "code",
   "execution_count": 1,
   "id": "953c70c9",
   "metadata": {},
   "outputs": [
    {
     "name": "stderr",
     "output_type": "stream",
     "text": [
      "[nltk_data] Downloading package vader_lexicon to\n",
      "[nltk_data]     /Users/MilesChild/nltk_data...\n",
      "[nltk_data]   Package vader_lexicon is already up-to-date!\n",
      "[nltk_data] Downloading package vader_lexicon to\n",
      "[nltk_data]     /Users/MilesChild/nltk_data...\n",
      "[nltk_data]   Package vader_lexicon is already up-to-date!\n"
     ]
    }
   ],
   "source": [
    "import pandas as pd\n",
    "import nltk\n",
    "nltk.download('vader_lexicon')\n",
    "from nltk.sentiment.vader import SentimentIntensityAnalyzer\n",
    "sid = SentimentIntensityAnalyzer()\n",
    "from vader_model import *"
   ]
  },
  {
   "cell_type": "code",
   "execution_count": 2,
   "id": "5ee572b7",
   "metadata": {},
   "outputs": [
    {
     "name": "stdout",
     "output_type": "stream",
     "text": [
      "{'neg': 0.0, 'neu': 0.308, 'pos': 0.692, 'compound': 0.6696}\n",
      "{'neg': 0.666, 'neu': 0.334, 'pos': 0.0, 'compound': -0.6114}\n"
     ]
    }
   ],
   "source": [
    "# Example of VADER sentiment analysis tool:\n",
    "\n",
    "# Positive string:\n",
    "print(sid.polarity_scores('I love this movie!'))\n",
    "\n",
    "# Negative string:\n",
    "print(sid.polarity_scores('I hate this movie!'))"
   ]
  },
  {
   "cell_type": "markdown",
   "id": "5835073c",
   "metadata": {},
   "source": [
    "# Creating a sentiment score dataframe using our text reviews data:"
   ]
  },
  {
   "cell_type": "code",
   "execution_count": 3,
   "id": "769d5322",
   "metadata": {},
   "outputs": [],
   "source": [
    "# initialize the reviews dataframe\n",
    "text_df = pd.read_csv('../data_initialEDA.csv')"
   ]
  },
  {
   "cell_type": "code",
   "execution_count": 4,
   "id": "479fad13",
   "metadata": {},
   "outputs": [
    {
     "data": {
      "text/html": [
       "<div>\n",
       "<style scoped>\n",
       "    .dataframe tbody tr th:only-of-type {\n",
       "        vertical-align: middle;\n",
       "    }\n",
       "\n",
       "    .dataframe tbody tr th {\n",
       "        vertical-align: top;\n",
       "    }\n",
       "\n",
       "    .dataframe thead th {\n",
       "        text-align: right;\n",
       "    }\n",
       "</style>\n",
       "<table border=\"1\" class=\"dataframe\">\n",
       "  <thead>\n",
       "    <tr style=\"text-align: right;\">\n",
       "      <th></th>\n",
       "      <th>Stars</th>\n",
       "      <th>Review</th>\n",
       "      <th>scores</th>\n",
       "      <th>neg</th>\n",
       "      <th>neu</th>\n",
       "      <th>pos</th>\n",
       "      <th>compound</th>\n",
       "    </tr>\n",
       "  </thead>\n",
       "  <tbody>\n",
       "    <tr>\n",
       "      <th>0</th>\n",
       "      <td>1</td>\n",
       "      <td>I got 'new' tires from them and within two wee...</td>\n",
       "      <td>{'neg': 0.067, 'neu': 0.933, 'pos': 0.0, 'comp...</td>\n",
       "      <td>0.067</td>\n",
       "      <td>0.933</td>\n",
       "      <td>0.000</td>\n",
       "      <td>-0.8951</td>\n",
       "    </tr>\n",
       "    <tr>\n",
       "      <th>1</th>\n",
       "      <td>1</td>\n",
       "      <td>Don't waste your time.  We had two different p...</td>\n",
       "      <td>{'neg': 0.0, 'neu': 0.939, 'pos': 0.061, 'comp...</td>\n",
       "      <td>0.000</td>\n",
       "      <td>0.939</td>\n",
       "      <td>0.061</td>\n",
       "      <td>0.3252</td>\n",
       "    </tr>\n",
       "    <tr>\n",
       "      <th>2</th>\n",
       "      <td>1</td>\n",
       "      <td>All I can say is the worst! We were the only 2...</td>\n",
       "      <td>{'neg': 0.092, 'neu': 0.853, 'pos': 0.055, 'co...</td>\n",
       "      <td>0.092</td>\n",
       "      <td>0.853</td>\n",
       "      <td>0.055</td>\n",
       "      <td>-0.7697</td>\n",
       "    </tr>\n",
       "    <tr>\n",
       "      <th>3</th>\n",
       "      <td>1</td>\n",
       "      <td>I have been to this restaurant twice and was d...</td>\n",
       "      <td>{'neg': 0.137, 'neu': 0.833, 'pos': 0.031, 'co...</td>\n",
       "      <td>0.137</td>\n",
       "      <td>0.833</td>\n",
       "      <td>0.031</td>\n",
       "      <td>-0.9645</td>\n",
       "    </tr>\n",
       "    <tr>\n",
       "      <th>4</th>\n",
       "      <td>1</td>\n",
       "      <td>Food was NOT GOOD at all! My husband &amp; I ate h...</td>\n",
       "      <td>{'neg': 0.13, 'neu': 0.825, 'pos': 0.044, 'com...</td>\n",
       "      <td>0.130</td>\n",
       "      <td>0.825</td>\n",
       "      <td>0.044</td>\n",
       "      <td>-0.9392</td>\n",
       "    </tr>\n",
       "  </tbody>\n",
       "</table>\n",
       "</div>"
      ],
      "text/plain": [
       "   Stars                                             Review  \\\n",
       "0      1  I got 'new' tires from them and within two wee...   \n",
       "1      1  Don't waste your time.  We had two different p...   \n",
       "2      1  All I can say is the worst! We were the only 2...   \n",
       "3      1  I have been to this restaurant twice and was d...   \n",
       "4      1  Food was NOT GOOD at all! My husband & I ate h...   \n",
       "\n",
       "                                              scores    neg    neu    pos  \\\n",
       "0  {'neg': 0.067, 'neu': 0.933, 'pos': 0.0, 'comp...  0.067  0.933  0.000   \n",
       "1  {'neg': 0.0, 'neu': 0.939, 'pos': 0.061, 'comp...  0.000  0.939  0.061   \n",
       "2  {'neg': 0.092, 'neu': 0.853, 'pos': 0.055, 'co...  0.092  0.853  0.055   \n",
       "3  {'neg': 0.137, 'neu': 0.833, 'pos': 0.031, 'co...  0.137  0.833  0.031   \n",
       "4  {'neg': 0.13, 'neu': 0.825, 'pos': 0.044, 'com...  0.130  0.825  0.044   \n",
       "\n",
       "   compound  \n",
       "0   -0.8951  \n",
       "1    0.3252  \n",
       "2   -0.7697  \n",
       "3   -0.9645  \n",
       "4   -0.9392  "
      ]
     },
     "execution_count": 4,
     "metadata": {},
     "output_type": "execute_result"
    }
   ],
   "source": [
    "# Step 2: Use VADER model to score each of the reviews and store the output in a new column.\n",
    "# note: this takes a while to run\n",
    "vm = VaderModel()\n",
    "\n",
    "sentiment_df = vm.add_scores_to_dataframe(text_df, 'Review')\n",
    "sentiment_df.head()"
   ]
  },
  {
   "cell_type": "code",
   "execution_count": 5,
   "id": "09db2b91",
   "metadata": {},
   "outputs": [
    {
     "data": {
      "text/html": [
       "<div>\n",
       "<style scoped>\n",
       "    .dataframe tbody tr th:only-of-type {\n",
       "        vertical-align: middle;\n",
       "    }\n",
       "\n",
       "    .dataframe tbody tr th {\n",
       "        vertical-align: top;\n",
       "    }\n",
       "\n",
       "    .dataframe thead th {\n",
       "        text-align: right;\n",
       "    }\n",
       "</style>\n",
       "<table border=\"1\" class=\"dataframe\">\n",
       "  <thead>\n",
       "    <tr style=\"text-align: right;\">\n",
       "      <th></th>\n",
       "      <th>neg</th>\n",
       "      <th>neu</th>\n",
       "      <th>pos</th>\n",
       "      <th>compound</th>\n",
       "    </tr>\n",
       "  </thead>\n",
       "  <tbody>\n",
       "    <tr>\n",
       "      <th>0</th>\n",
       "      <td>0.067</td>\n",
       "      <td>0.933</td>\n",
       "      <td>0.000</td>\n",
       "      <td>-0.8951</td>\n",
       "    </tr>\n",
       "    <tr>\n",
       "      <th>1</th>\n",
       "      <td>0.000</td>\n",
       "      <td>0.939</td>\n",
       "      <td>0.061</td>\n",
       "      <td>0.3252</td>\n",
       "    </tr>\n",
       "    <tr>\n",
       "      <th>2</th>\n",
       "      <td>0.092</td>\n",
       "      <td>0.853</td>\n",
       "      <td>0.055</td>\n",
       "      <td>-0.7697</td>\n",
       "    </tr>\n",
       "    <tr>\n",
       "      <th>3</th>\n",
       "      <td>0.137</td>\n",
       "      <td>0.833</td>\n",
       "      <td>0.031</td>\n",
       "      <td>-0.9645</td>\n",
       "    </tr>\n",
       "    <tr>\n",
       "      <th>4</th>\n",
       "      <td>0.130</td>\n",
       "      <td>0.825</td>\n",
       "      <td>0.044</td>\n",
       "      <td>-0.9392</td>\n",
       "    </tr>\n",
       "    <tr>\n",
       "      <th>...</th>\n",
       "      <td>...</td>\n",
       "      <td>...</td>\n",
       "      <td>...</td>\n",
       "      <td>...</td>\n",
       "    </tr>\n",
       "    <tr>\n",
       "      <th>49875</th>\n",
       "      <td>0.083</td>\n",
       "      <td>0.789</td>\n",
       "      <td>0.127</td>\n",
       "      <td>0.7933</td>\n",
       "    </tr>\n",
       "    <tr>\n",
       "      <th>49876</th>\n",
       "      <td>0.000</td>\n",
       "      <td>0.229</td>\n",
       "      <td>0.771</td>\n",
       "      <td>0.9571</td>\n",
       "    </tr>\n",
       "    <tr>\n",
       "      <th>49877</th>\n",
       "      <td>0.000</td>\n",
       "      <td>0.807</td>\n",
       "      <td>0.193</td>\n",
       "      <td>0.9629</td>\n",
       "    </tr>\n",
       "    <tr>\n",
       "      <th>49878</th>\n",
       "      <td>0.053</td>\n",
       "      <td>0.743</td>\n",
       "      <td>0.204</td>\n",
       "      <td>0.9786</td>\n",
       "    </tr>\n",
       "    <tr>\n",
       "      <th>49879</th>\n",
       "      <td>0.044</td>\n",
       "      <td>0.790</td>\n",
       "      <td>0.165</td>\n",
       "      <td>0.9664</td>\n",
       "    </tr>\n",
       "  </tbody>\n",
       "</table>\n",
       "<p>49880 rows × 4 columns</p>\n",
       "</div>"
      ],
      "text/plain": [
       "         neg    neu    pos  compound\n",
       "0      0.067  0.933  0.000   -0.8951\n",
       "1      0.000  0.939  0.061    0.3252\n",
       "2      0.092  0.853  0.055   -0.7697\n",
       "3      0.137  0.833  0.031   -0.9645\n",
       "4      0.130  0.825  0.044   -0.9392\n",
       "...      ...    ...    ...       ...\n",
       "49875  0.083  0.789  0.127    0.7933\n",
       "49876  0.000  0.229  0.771    0.9571\n",
       "49877  0.000  0.807  0.193    0.9629\n",
       "49878  0.053  0.743  0.204    0.9786\n",
       "49879  0.044  0.790  0.165    0.9664\n",
       "\n",
       "[49880 rows x 4 columns]"
      ]
     },
     "execution_count": 5,
     "metadata": {},
     "output_type": "execute_result"
    }
   ],
   "source": [
    "sentiment_df.iloc[:, 3:]"
   ]
  },
  {
   "cell_type": "code",
   "execution_count": 6,
   "id": "09d8e152",
   "metadata": {},
   "outputs": [
    {
     "ename": "NameError",
     "evalue": "name 'train_test_split' is not defined",
     "output_type": "error",
     "traceback": [
      "\u001b[0;31m---------------------------------------------------------------------------\u001b[0m",
      "\u001b[0;31mNameError\u001b[0m                                 Traceback (most recent call last)",
      "\u001b[1;32m/Users/MilesChild/Desktop/codeProjects/DS3000/smart-review-model/model/vader_nlp_testground.ipynb Cell 8\u001b[0m in \u001b[0;36m<cell line: 8>\u001b[0;34m()\u001b[0m\n\u001b[1;32m      <a href='vscode-notebook-cell:/Users/MilesChild/Desktop/codeProjects/DS3000/smart-review-model/model/vader_nlp_testground.ipynb#X10sZmlsZQ%3D%3D?line=4'>5</a>\u001b[0m \u001b[39m# reshape y array\u001b[39;00m\n\u001b[1;32m      <a href='vscode-notebook-cell:/Users/MilesChild/Desktop/codeProjects/DS3000/smart-review-model/model/vader_nlp_testground.ipynb#X10sZmlsZQ%3D%3D?line=5'>6</a>\u001b[0m y\u001b[39m.\u001b[39mreshape(\u001b[39m-\u001b[39m\u001b[39m1\u001b[39m, \u001b[39m1\u001b[39m)\n\u001b[0;32m----> <a href='vscode-notebook-cell:/Users/MilesChild/Desktop/codeProjects/DS3000/smart-review-model/model/vader_nlp_testground.ipynb#X10sZmlsZQ%3D%3D?line=7'>8</a>\u001b[0m X_train, X_test, y_train, y_test \u001b[39m=\u001b[39m train_test_split(X,              \u001b[39m#the input features\u001b[39;00m\n\u001b[1;32m      <a href='vscode-notebook-cell:/Users/MilesChild/Desktop/codeProjects/DS3000/smart-review-model/model/vader_nlp_testground.ipynb#X10sZmlsZQ%3D%3D?line=8'>9</a>\u001b[0m                                                     y,              \u001b[39m#the label\u001b[39;00m\n\u001b[1;32m     <a href='vscode-notebook-cell:/Users/MilesChild/Desktop/codeProjects/DS3000/smart-review-model/model/vader_nlp_testground.ipynb#X10sZmlsZQ%3D%3D?line=9'>10</a>\u001b[0m                                                     test_size\u001b[39m=\u001b[39m\u001b[39m0.3\u001b[39m,  \u001b[39m#set aside 30% of the data as the test set\u001b[39;00m\n\u001b[1;32m     <a href='vscode-notebook-cell:/Users/MilesChild/Desktop/codeProjects/DS3000/smart-review-model/model/vader_nlp_testground.ipynb#X10sZmlsZQ%3D%3D?line=10'>11</a>\u001b[0m                                                     random_state\u001b[39m=\u001b[39m\u001b[39m7\u001b[39m \u001b[39m#reproduce the result\u001b[39;00m\n\u001b[1;32m     <a href='vscode-notebook-cell:/Users/MilesChild/Desktop/codeProjects/DS3000/smart-review-model/model/vader_nlp_testground.ipynb#X10sZmlsZQ%3D%3D?line=11'>12</a>\u001b[0m                                                    )\n",
      "\u001b[0;31mNameError\u001b[0m: name 'train_test_split' is not defined"
     ]
    }
   ],
   "source": [
    "# initialize features\n",
    "X   = sentiment_df.iloc[:, 3:].values\n",
    "y   = sentiment_df['Stars'].values     \n",
    "\n",
    "# reshape y array\n",
    "y.reshape(-1, 1)\n",
    "\n",
    "X_train, X_test, y_train, y_test = train_test_split(X,              #the input features\n",
    "                                                    y,              #the label\n",
    "                                                    test_size=0.3,  #set aside 30% of the data as the test set\n",
    "                                                    random_state=7 #reproduce the result\n",
    "                                                   )"
   ]
  },
  {
   "cell_type": "code",
   "execution_count": 7,
   "id": "b20601cf",
   "metadata": {},
   "outputs": [
    {
     "data": {
      "image/png": "[encoded data removed]",
      "text/plain": [
       "<Figure size 432x288 with 1 Axes>"
      ]
     },
     "metadata": {
      "needs_background": "light"
     },
     "output_type": "display_data"
    }
   ],
   "source": [
    "from sklearn.model_selection import train_test_split\n",
    "from sklearn.neighbors import KNeighborsClassifier\n",
    "from sklearn.model_selection import StratifiedKFold\n",
    "import pandas as pd\n",
    "import numpy as np\n",
    "from sklearn.metrics import accuracy_score\n",
    "import matplotlib.pyplot as plt\n",
    "import seaborn as sns\n",
    "\n",
    "# list n_neighbors to test\n",
    "n_neighbors = list(range(1, 30))\n",
    "a_scores = []\n",
    "\n",
    "\n",
    "for neighbors in n_neighbors: \n",
    "    # initialize a knn_classifier\n",
    "    knn_classifier = KNeighborsClassifier(n_neighbors =  neighbors)\n",
    "\n",
    "    # construction of kfold object\n",
    "    kfold = StratifiedKFold(n_splits = 3, shuffle = True, random_state = 1)\n",
    "\n",
    "    # allocate an empty array to store predictions in \n",
    "    y_pred = np.empty_like(y)\n",
    "\n",
    "    for train_idx, test_idx in kfold.split(X, y):\n",
    "        # build arrays which correspond to x, y train /test\n",
    "        x_test = X[test_idx, :]\n",
    "        x_train = X[train_idx, :]\n",
    "        y_true_train = y[train_idx]\n",
    "\n",
    "\n",
    "\n",
    "        # fit the classifier (use all available data)\n",
    "        knn_classifier.fit(X, y)\n",
    "\n",
    "        # estimate each review's star\n",
    "        y_pred[test_idx] = knn_classifier.predict(x_test)\n",
    "\n",
    "    \n",
    "    # compute accuracy\n",
    "    a_scores.append(accuracy_score(y_true = y, y_pred = y_pred))\n",
    "\n",
    "sns.set()\n",
    "plt.plot(n_neighbors, a_scores)\n",
    "plt.xlabel('number of neighbors')\n",
    "plt.ylabel('accuracy (cross validated)')\n",
    "plt.title('Accuracy Score of KNN Models for Review Rating Predictions')\n",
    "plt.show()\n",
    "    \n"
   ]
  },
  {
   "cell_type": "code",
   "execution_count": 8,
   "id": "9f80d911",
   "metadata": {},
   "outputs": [
    {
     "name": "stdout",
     "output_type": "stream",
     "text": [
      "Maximum score achieved by KNN model: 0.9829390537289495\n"
     ]
    }
   ],
   "source": [
    "print(f'Maximum score achieved by KNN model: {max(a_scores)}')"
   ]
  }
 ],
 "metadata": {
  "kernelspec": {
   "display_name": "Python 3 (ipykernel)",
   "language": "python",
   "name": "python3"
  },
  "language_info": {
   "codemirror_mode": {
    "name": "ipython",
    "version": 3
   },
   "file_extension": ".py",
   "mimetype": "text/x-python",
   "name": "python",
   "nbconvert_exporter": "python",
   "pygments_lexer": "ipython3",
   "version": "3.9.12"
  },
  "vscode": {
   "interpreter": {
    "hash": "6878569262a6e222d2bf9767f8c76a5e9f33c66f4b81d8aa952494e1f3a0e918"
   }
  }
 },
 "nbformat": 4,
 "nbformat_minor": 5
}
